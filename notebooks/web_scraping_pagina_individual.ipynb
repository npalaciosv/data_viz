{
 "cells": [
  {
   "cell_type": "markdown",
   "metadata": {},
   "source": [
    "## **Web Scraping de TUCARRO.COM paginas particulares**"
   ]
  },
  {
   "cell_type": "markdown",
   "metadata": {},
   "source": [
    "### **1. Importamos las respectivas librerias**"
   ]
  },
  {
   "cell_type": "code",
   "execution_count": null,
   "metadata": {},
   "outputs": [],
   "source": [
    "from bs4 import BeautifulSoup\n",
    "import requests\n",
    "import pandas as pd\n",
    "import re\n",
    "import json"
   ]
  },
  {
   "cell_type": "markdown",
   "metadata": {},
   "source": [
    "### **2. Hacemos el respectivo requerimiento a la pagina**"
   ]
  },
  {
   "cell_type": "markdown",
   "metadata": {},
   "source": [
    "➡️ Tenemos que hacer la peticion de conexion a la pagina que vamos a scrapear"
   ]
  },
  {
   "cell_type": "code",
   "execution_count": null,
   "metadata": {},
   "outputs": [],
   "source": [
    "html_text = requests.get('https://articulo.tucarro.com.co/MCO-2526957066-mercedes-benz-cla-180-13-amg-line-2022-_JM#position%3D1%26search_layout%3Dgrid%26type%3Ditem%26tracking_id%3Ddd2134b9-b228-49f8-a6c2-33ab624ba167')"
   ]
  },
  {
   "cell_type": "markdown",
   "metadata": {},
   "source": [
    "➡️ Necesitamos un indicador que nos diga si la conexion fue realmente efectiva, en este caso, **200** es el código que muestra una conexion exitosa.\n",
    "\n",
    "🗒️ **Observación:** Para una mayor informacion, les dejo el siguiente link 🔗 https://developer.mozilla.org/es/docs/Web/HTTP/Status/200"
   ]
  },
  {
   "cell_type": "code",
   "execution_count": null,
   "metadata": {},
   "outputs": [],
   "source": [
    "status_code = html_text.status_code\n",
    "print(status_code)"
   ]
  },
  {
   "cell_type": "markdown",
   "metadata": {},
   "source": [
    "➡️ Ahora, vamos a convertir la url de la pagina en la que estamos situados en un valor de referencia que utilizaremos posteriormente"
   ]
  },
  {
   "cell_type": "code",
   "execution_count": null,
   "metadata": {},
   "outputs": [],
   "source": [
    "conexion_url = html_text.url\n",
    "print(conexion_url)"
   ]
  },
  {
   "cell_type": "markdown",
   "metadata": {},
   "source": [
    "### **3. Seleccionamos las grillas especificas de donde vamos a sacar la informacion**"
   ]
  },
  {
   "cell_type": "code",
   "execution_count": null,
   "metadata": {},
   "outputs": [],
   "source": [
    "soup = BeautifulSoup(html_text.text, 'lxml')"
   ]
  },
  {
   "cell_type": "markdown",
   "metadata": {},
   "source": [
    "➡️ En esta pagina hay bastante informacion, sin embargo, la primera parte que dice *\"Caracteristicas del producto\"* pareciera estar ya contenida en las tablas que se muestran justo abajo. Por decision, vamos a tomar solo la informacion que se detalla en las tablas.\n",
    "\n",
    "⚠️ **Alerta:** Esta parte de la pagina pareciera esta protegida para hacer *web scraping*, por lo tanto debemos excabar para ver que informacion si es posible extraer."
   ]
  },
  {
   "cell_type": "markdown",
   "metadata": {},
   "source": [
    "#### 3.1 Condiciones de compra"
   ]
  },
  {
   "cell_type": "markdown",
   "metadata": {},
   "source": [
    "➡️ Exploremos la informacion que se esta extrayendo en el request"
   ]
  },
  {
   "cell_type": "code",
   "execution_count": null,
   "metadata": {},
   "outputs": [],
   "source": [
    "print(soup)"
   ]
  },
  {
   "cell_type": "markdown",
   "metadata": {},
   "source": [
    "➡️ La unica informacion que pareciera estar disponible tien que ver con *Color*, *Tipo de carroceria*, *Marca*, etc. Vamos a extraer esa informacion. El formato esta en formato JSON asi que vamos a extraer la informacion teniendo este hecho presente."
   ]
  },
  {
   "cell_type": "code",
   "execution_count": null,
   "metadata": {},
   "outputs": [],
   "source": [
    "# Buscamos en elemento script dentro del bloque del html\n",
    "script = soup.find('script', type='application/ld+json')\n",
    "\n",
    "# Extraer el contenido del script como texto. Strip se encargara de eliminar los espacios vacios al principio y al final de la cadena\n",
    "script_content = script.text.strip()\n",
    "\n",
    "# Convertir el contenido del script a un objeto JSON\n",
    "data = json.loads(script_content)\n",
    "data"
   ]
  },
  {
   "cell_type": "markdown",
   "metadata": {},
   "source": [
    "➡️ Ahora vamos a crear un dataframe a partir de la información que conseguimos.\n",
    "\n",
    "🗒️ **Observación:** Vamos a crear un dataframe donde una columna contenga el nombre de la característica y otra con los valores asociados."
   ]
  },
  {
   "cell_type": "code",
   "execution_count": null,
   "metadata": {},
   "outputs": [],
   "source": [
    "features_ONLY_offers = list(data['offers'].keys())\n",
    "features_ONLY_offers"
   ]
  },
  {
   "cell_type": "code",
   "execution_count": null,
   "metadata": {},
   "outputs": [],
   "source": [
    "features_NO_offers = list(data.keys())\n",
    "features_NO_offers = [item for item in features_NO_offers if item != 'offers']\n",
    "features_NO_offers"
   ]
  },
  {
   "cell_type": "code",
   "execution_count": null,
   "metadata": {},
   "outputs": [],
   "source": [
    "features = features_ONLY_offers + features_NO_offers\n",
    "features"
   ]
  },
  {
   "cell_type": "markdown",
   "metadata": {},
   "source": [
    "➡️ Ahora deberíamos hacer lo mismo con los valores."
   ]
  },
  {
   "cell_type": "code",
   "execution_count": null,
   "metadata": {},
   "outputs": [],
   "source": [
    "values_ONLY_offers = list(data['offers'].values())\n",
    "values_NO_offers = [value for key, value in data.items() if key != 'offers']\n",
    "values = values_ONLY_offers + values_NO_offers\n",
    "values"
   ]
  },
  {
   "cell_type": "markdown",
   "metadata": {},
   "source": [
    "➡️ Convertimos en un dicionario las listas previamente definidas. Utilizamos la funcion 📦 *zip* para unir en pares las llaves y los valores. Adicionalmente, creamos un dataframe a partir de este diccionario utilizando el atributo **index=[0]** que nos ayuda a dejar como nombre de columnas las llaves con el valor respectivo."
   ]
  },
  {
   "cell_type": "code",
   "execution_count": null,
   "metadata": {},
   "outputs": [],
   "source": [
    "data_dict = {str(feature): value for feature, value in zip(features, values)}\n",
    "df = pd.DataFrame(data_dict, index=[0])"
   ]
  },
  {
   "cell_type": "markdown",
   "metadata": {},
   "source": [
    "🗒️ **Observación:** No olvidemos agregar el registro ('timestamp') de la operación y la página de origen"
   ]
  },
  {
   "cell_type": "code",
   "execution_count": null,
   "metadata": {},
   "outputs": [],
   "source": [
    "df['Registro'] = pd.Timestamp.now()\n",
    "df['Origen_individual'] = conexion_url\n",
    "df"
   ]
  }
 ],
 "metadata": {
  "kernelspec": {
   "display_name": "web_scrapping",
   "language": "python",
   "name": "python3"
  },
  "language_info": {
   "codemirror_mode": {
    "name": "ipython",
    "version": 3
   },
   "file_extension": ".py",
   "mimetype": "text/x-python",
   "name": "python",
   "nbconvert_exporter": "python",
   "pygments_lexer": "ipython3",
   "version": "3.12.4"
  }
 },
 "nbformat": 4,
 "nbformat_minor": 2
}
